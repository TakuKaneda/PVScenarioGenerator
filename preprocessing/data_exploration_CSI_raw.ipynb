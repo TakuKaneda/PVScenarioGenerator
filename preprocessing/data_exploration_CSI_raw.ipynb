{
 "cells": [
  {
   "cell_type": "markdown",
   "metadata": {},
   "source": [
    "# Data exploration for CSI raw data\n",
    "\n",
    "data is available at https://www.californiadgstats.ca.gov/download/interval_data/Raw_Interval_Dataset.zip\n"
   ]
  },
  {
   "cell_type": "code",
   "execution_count": 1,
   "metadata": {
    "collapsed": true
   },
   "outputs": [],
   "source": [
    "import numpy as np\n",
    "import pandas as pd\n",
    "import matplotlib.pyplot as plt\n",
    "%matplotlib inline"
   ]
  },
  {
   "cell_type": "markdown",
   "metadata": {},
   "source": [
    "## Read the csv data\n",
    "We use the following profile of data.\n",
    "`PGE-SASH-4101`:  \n",
    "* Zip Code: 95122 San Jose, California https://goo.gl/maps/zCsdjqUbtYF2"
   ]
  },
  {
   "cell_type": "code",
   "execution_count": 2,
   "metadata": {},
   "outputs": [
    {
     "name": "stdout",
     "output_type": "stream",
     "text": [
      "CPU times: user 53.6 s, sys: 21.2 s, total: 1min 14s\n",
      "Wall time: 1min 18s\n"
     ]
    }
   ],
   "source": [
    "%%time\n",
    "df = pd.read_csv(\"../data/CSIraw/PGE_No_Load_StartThru2016Q4.csv\",header=0,parse_dates=[3])"
   ]
  },
  {
   "cell_type": "code",
   "execution_count": 3,
   "metadata": {},
   "outputs": [
    {
     "data": {
      "text/html": [
       "<div>\n",
       "<style scoped>\n",
       "    .dataframe tbody tr th:only-of-type {\n",
       "        vertical-align: middle;\n",
       "    }\n",
       "\n",
       "    .dataframe tbody tr th {\n",
       "        vertical-align: top;\n",
       "    }\n",
       "\n",
       "    .dataframe thead th {\n",
       "        text-align: right;\n",
       "    }\n",
       "</style>\n",
       "<table border=\"1\" class=\"dataframe\">\n",
       "  <thead>\n",
       "    <tr style=\"text-align: right;\">\n",
       "      <th></th>\n",
       "      <th>ID</th>\n",
       "      <th>Inctv_type</th>\n",
       "      <th>pa</th>\n",
       "      <th>LocalDateTime</th>\n",
       "      <th>kWh</th>\n",
       "      <th>Flag</th>\n",
       "    </tr>\n",
       "  </thead>\n",
       "  <tbody>\n",
       "    <tr>\n",
       "      <th>0</th>\n",
       "      <td>A-1611</td>\n",
       "      <td>EPBB</td>\n",
       "      <td>PG&amp;E</td>\n",
       "      <td>26AUG10:00:00:00</td>\n",
       "      <td>0.01625</td>\n",
       "      <td>M</td>\n",
       "    </tr>\n",
       "    <tr>\n",
       "      <th>1</th>\n",
       "      <td>A-1611</td>\n",
       "      <td>EPBB</td>\n",
       "      <td>PG&amp;E</td>\n",
       "      <td>26AUG10:00:15:00</td>\n",
       "      <td>0.01650</td>\n",
       "      <td>M</td>\n",
       "    </tr>\n",
       "    <tr>\n",
       "      <th>2</th>\n",
       "      <td>A-1611</td>\n",
       "      <td>EPBB</td>\n",
       "      <td>PG&amp;E</td>\n",
       "      <td>26AUG10:00:30:00</td>\n",
       "      <td>0.01625</td>\n",
       "      <td>M</td>\n",
       "    </tr>\n",
       "    <tr>\n",
       "      <th>3</th>\n",
       "      <td>A-1611</td>\n",
       "      <td>EPBB</td>\n",
       "      <td>PG&amp;E</td>\n",
       "      <td>26AUG10:00:45:00</td>\n",
       "      <td>0.01600</td>\n",
       "      <td>M</td>\n",
       "    </tr>\n",
       "    <tr>\n",
       "      <th>4</th>\n",
       "      <td>A-1611</td>\n",
       "      <td>EPBB</td>\n",
       "      <td>PG&amp;E</td>\n",
       "      <td>26AUG10:01:00:00</td>\n",
       "      <td>0.01600</td>\n",
       "      <td>M</td>\n",
       "    </tr>\n",
       "  </tbody>\n",
       "</table>\n",
       "</div>"
      ],
      "text/plain": [
       "       ID Inctv_type    pa     LocalDateTime      kWh Flag\n",
       "0  A-1611       EPBB  PG&E  26AUG10:00:00:00  0.01625    M\n",
       "1  A-1611       EPBB  PG&E  26AUG10:00:15:00  0.01650    M\n",
       "2  A-1611       EPBB  PG&E  26AUG10:00:30:00  0.01625    M\n",
       "3  A-1611       EPBB  PG&E  26AUG10:00:45:00  0.01600    M\n",
       "4  A-1611       EPBB  PG&E  26AUG10:01:00:00  0.01600    M"
      ]
     },
     "execution_count": 3,
     "metadata": {},
     "output_type": "execute_result"
    }
   ],
   "source": [
    "df.head()"
   ]
  },
  {
   "cell_type": "code",
   "execution_count": 4,
   "metadata": {},
   "outputs": [
    {
     "data": {
      "text/plain": [
       "(ID                object\n",
       " Inctv_type        object\n",
       " pa                object\n",
       " LocalDateTime     object\n",
       " kWh              float64\n",
       " Flag              object\n",
       " dtype: object,\n",
       " Index(['ID', 'Inctv_type', 'pa', 'LocalDateTime', 'kWh', 'Flag'], dtype='object'),\n",
       " (36053945, 6))"
      ]
     },
     "execution_count": 4,
     "metadata": {},
     "output_type": "execute_result"
    }
   ],
   "source": [
    "df.dtypes, df.columns, df.shape"
   ]
  },
  {
   "cell_type": "code",
   "execution_count": 279,
   "metadata": {
    "collapsed": true
   },
   "outputs": [],
   "source": [
    "pge_df = df[df['ID']=='PGE-SASH-4101']"
   ]
  },
  {
   "cell_type": "code",
   "execution_count": 280,
   "metadata": {},
   "outputs": [
    {
     "data": {
      "text/plain": [
       "datetime.datetime(2010, 8, 26, 0, 45)"
      ]
     },
     "execution_count": 280,
     "metadata": {},
     "output_type": "execute_result"
    }
   ],
   "source": [
    "from datetime import datetime\n",
    "datestr1='26AUG10:00:45:00'\n",
    "datetime.strptime(datestr1, '%d%b%y:%H:%M:%S')"
   ]
  },
  {
   "cell_type": "code",
   "execution_count": 281,
   "metadata": {},
   "outputs": [
    {
     "name": "stderr",
     "output_type": "stream",
     "text": [
      "/Users/taku/anaconda3/lib/python3.6/site-packages/ipykernel_launcher.py:1: SettingWithCopyWarning: \n",
      "A value is trying to be set on a copy of a slice from a DataFrame.\n",
      "Try using .loc[row_indexer,col_indexer] = value instead\n",
      "\n",
      "See the caveats in the documentation: http://pandas.pydata.org/pandas-docs/stable/indexing.html#indexing-view-versus-copy\n",
      "  \"\"\"Entry point for launching an IPython kernel.\n"
     ]
    },
    {
     "data": {
      "text/html": [
       "<div>\n",
       "<style scoped>\n",
       "    .dataframe tbody tr th:only-of-type {\n",
       "        vertical-align: middle;\n",
       "    }\n",
       "\n",
       "    .dataframe tbody tr th {\n",
       "        vertical-align: top;\n",
       "    }\n",
       "\n",
       "    .dataframe thead th {\n",
       "        text-align: right;\n",
       "    }\n",
       "</style>\n",
       "<table border=\"1\" class=\"dataframe\">\n",
       "  <thead>\n",
       "    <tr style=\"text-align: right;\">\n",
       "      <th></th>\n",
       "      <th>ID</th>\n",
       "      <th>Inctv_type</th>\n",
       "      <th>pa</th>\n",
       "      <th>kWh</th>\n",
       "      <th>Flag</th>\n",
       "      <th>datetime</th>\n",
       "    </tr>\n",
       "  </thead>\n",
       "  <tbody>\n",
       "    <tr>\n",
       "      <th>35791621</th>\n",
       "      <td>PGE-SASH-4101</td>\n",
       "      <td>EPBB</td>\n",
       "      <td>PG&amp;E</td>\n",
       "      <td>0.0</td>\n",
       "      <td>M</td>\n",
       "      <td>2011-12-21 00:00:00</td>\n",
       "    </tr>\n",
       "    <tr>\n",
       "      <th>35791622</th>\n",
       "      <td>PGE-SASH-4101</td>\n",
       "      <td>EPBB</td>\n",
       "      <td>PG&amp;E</td>\n",
       "      <td>0.0</td>\n",
       "      <td>M</td>\n",
       "      <td>2011-12-21 00:15:00</td>\n",
       "    </tr>\n",
       "    <tr>\n",
       "      <th>35791623</th>\n",
       "      <td>PGE-SASH-4101</td>\n",
       "      <td>EPBB</td>\n",
       "      <td>PG&amp;E</td>\n",
       "      <td>0.0</td>\n",
       "      <td>M</td>\n",
       "      <td>2011-12-21 00:30:00</td>\n",
       "    </tr>\n",
       "    <tr>\n",
       "      <th>35791624</th>\n",
       "      <td>PGE-SASH-4101</td>\n",
       "      <td>EPBB</td>\n",
       "      <td>PG&amp;E</td>\n",
       "      <td>0.0</td>\n",
       "      <td>M</td>\n",
       "      <td>2011-12-21 00:45:00</td>\n",
       "    </tr>\n",
       "    <tr>\n",
       "      <th>35791625</th>\n",
       "      <td>PGE-SASH-4101</td>\n",
       "      <td>EPBB</td>\n",
       "      <td>PG&amp;E</td>\n",
       "      <td>0.0</td>\n",
       "      <td>M</td>\n",
       "      <td>2011-12-21 01:00:00</td>\n",
       "    </tr>\n",
       "  </tbody>\n",
       "</table>\n",
       "</div>"
      ],
      "text/plain": [
       "                     ID Inctv_type    pa  kWh Flag            datetime\n",
       "35791621  PGE-SASH-4101       EPBB  PG&E  0.0    M 2011-12-21 00:00:00\n",
       "35791622  PGE-SASH-4101       EPBB  PG&E  0.0    M 2011-12-21 00:15:00\n",
       "35791623  PGE-SASH-4101       EPBB  PG&E  0.0    M 2011-12-21 00:30:00\n",
       "35791624  PGE-SASH-4101       EPBB  PG&E  0.0    M 2011-12-21 00:45:00\n",
       "35791625  PGE-SASH-4101       EPBB  PG&E  0.0    M 2011-12-21 01:00:00"
      ]
     },
     "execution_count": 281,
     "metadata": {},
     "output_type": "execute_result"
    }
   ],
   "source": [
    "pge_df['datetime'] = pd.to_datetime(pge_df['LocalDateTime'],format='%d%b%y:%H:%M:%S',errors='ignore')\n",
    "pge_df = pge_df.drop(columns=['LocalDateTime'])\n",
    "pge_df.head()"
   ]
  },
  {
   "cell_type": "code",
   "execution_count": 282,
   "metadata": {},
   "outputs": [
    {
     "data": {
      "image/png": "[encoded data removed]",
      "text/plain": [
       "<matplotlib.figure.Figure at 0x10f3fb1d0>"
      ]
     },
     "metadata": {},
     "output_type": "display_data"
    }
   ],
   "source": [
    "# plotting\n",
    "bp_x = pge_df['datetime']\n",
    "bp_y = pge_df['kWh']\n",
    "\n",
    "# Make the plot\n",
    "plt.plot(bp_x, bp_y, linewidth=2, linestyle=\"-\",\n",
    "         color=\"blue\") # , label=r\"Legend label $\\sin(x)$\"\n",
    "plt.xlabel(r\"Time\")\n",
    "plt.ylabel(r\"Energy (kWh)\")\n",
    "plt.title(r\"Production\")\n",
    "# plt.legend(loc=\"lower left\")\n",
    "plt.show()"
   ]
  },
  {
   "cell_type": "markdown",
   "metadata": {},
   "source": [
    "There are some missing data!!\n",
    "\n",
    "deal with that"
   ]
  },
  {
   "cell_type": "code",
   "execution_count": 283,
   "metadata": {},
   "outputs": [
    {
     "data": {
      "text/plain": [
       "(176448, 5)"
      ]
     },
     "execution_count": 283,
     "metadata": {},
     "output_type": "execute_result"
    }
   ],
   "source": [
    "# set the range of datetime\n",
    "idx = pd.date_range(pge_df['datetime'].iloc[0],pge_df['datetime'].iloc[-1],freq='15min')\n",
    "\n",
    "# set the datetime as index\n",
    "pge_df = pge_df.set_index('datetime')\n",
    "# reindexing to fill the nans\n",
    "pge_df=pge_df.reindex(idx)\n",
    "pge_df.shape"
   ]
  },
  {
   "cell_type": "code",
   "execution_count": 284,
   "metadata": {
    "scrolled": true
   },
   "outputs": [
    {
     "data": {
      "text/plain": [
       "(42635, 5)"
      ]
     },
     "execution_count": 284,
     "metadata": {},
     "output_type": "execute_result"
    }
   ],
   "source": [
    "pge_df[pge_df['kWh'].isnull() == True].shape"
   ]
  },
  {
   "cell_type": "markdown",
   "metadata": {},
   "source": [
    "There are 42635 missing rows!"
   ]
  },
  {
   "cell_type": "code",
   "execution_count": 285,
   "metadata": {
    "scrolled": false
   },
   "outputs": [
    {
     "data": {
      "text/html": [
       "<div>\n",
       "<style scoped>\n",
       "    .dataframe tbody tr th:only-of-type {\n",
       "        vertical-align: middle;\n",
       "    }\n",
       "\n",
       "    .dataframe tbody tr th {\n",
       "        vertical-align: top;\n",
       "    }\n",
       "\n",
       "    .dataframe thead th {\n",
       "        text-align: right;\n",
       "    }\n",
       "</style>\n",
       "<table border=\"1\" class=\"dataframe\">\n",
       "  <thead>\n",
       "    <tr style=\"text-align: right;\">\n",
       "      <th></th>\n",
       "      <th>ID</th>\n",
       "      <th>Inctv_type</th>\n",
       "      <th>pa</th>\n",
       "      <th>kWh</th>\n",
       "      <th>Flag</th>\n",
       "    </tr>\n",
       "  </thead>\n",
       "  <tbody>\n",
       "    <tr>\n",
       "      <th>2011-12-31 23:45:00</th>\n",
       "      <td>NaN</td>\n",
       "      <td>NaN</td>\n",
       "      <td>NaN</td>\n",
       "      <td>NaN</td>\n",
       "      <td>NaN</td>\n",
       "    </tr>\n",
       "    <tr>\n",
       "      <th>2012-01-01 00:00:00</th>\n",
       "      <td>NaN</td>\n",
       "      <td>NaN</td>\n",
       "      <td>NaN</td>\n",
       "      <td>NaN</td>\n",
       "      <td>NaN</td>\n",
       "    </tr>\n",
       "    <tr>\n",
       "      <th>2012-01-01 00:15:00</th>\n",
       "      <td>NaN</td>\n",
       "      <td>NaN</td>\n",
       "      <td>NaN</td>\n",
       "      <td>NaN</td>\n",
       "      <td>NaN</td>\n",
       "    </tr>\n",
       "    <tr>\n",
       "      <th>2012-01-01 00:30:00</th>\n",
       "      <td>NaN</td>\n",
       "      <td>NaN</td>\n",
       "      <td>NaN</td>\n",
       "      <td>NaN</td>\n",
       "      <td>NaN</td>\n",
       "    </tr>\n",
       "    <tr>\n",
       "      <th>2012-01-01 00:45:00</th>\n",
       "      <td>NaN</td>\n",
       "      <td>NaN</td>\n",
       "      <td>NaN</td>\n",
       "      <td>NaN</td>\n",
       "      <td>NaN</td>\n",
       "    </tr>\n",
       "  </tbody>\n",
       "</table>\n",
       "</div>"
      ],
      "text/plain": [
       "                      ID Inctv_type   pa  kWh Flag\n",
       "2011-12-31 23:45:00  NaN        NaN  NaN  NaN  NaN\n",
       "2012-01-01 00:00:00  NaN        NaN  NaN  NaN  NaN\n",
       "2012-01-01 00:15:00  NaN        NaN  NaN  NaN  NaN\n",
       "2012-01-01 00:30:00  NaN        NaN  NaN  NaN  NaN\n",
       "2012-01-01 00:45:00  NaN        NaN  NaN  NaN  NaN"
      ]
     },
     "execution_count": 285,
     "metadata": {},
     "output_type": "execute_result"
    }
   ],
   "source": [
    "pge_df[pge_df['kWh'].isnull() == True].head()"
   ]
  },
  {
   "cell_type": "markdown",
   "metadata": {},
   "source": [
    "Ignore the date with `NaN` data"
   ]
  },
  {
   "cell_type": "code",
   "execution_count": 320,
   "metadata": {},
   "outputs": [
    {
     "data": {
      "text/plain": [
       "(42635,)"
      ]
     },
     "execution_count": 320,
     "metadata": {},
     "output_type": "execute_result"
    }
   ],
   "source": [
    "unuseful_date = pge_df[pge_df['kWh'].isnull() == True].index.date \n",
    "unuseful_date.shape"
   ]
  },
  {
   "cell_type": "code",
   "execution_count": 319,
   "metadata": {},
   "outputs": [
    {
     "data": {
      "text/plain": [
       "(176448,)"
      ]
     },
     "execution_count": 319,
     "metadata": {},
     "output_type": "execute_result"
    }
   ],
   "source": [
    "pge_df.index.date.shape"
   ]
  },
  {
   "cell_type": "markdown",
   "metadata": {},
   "source": [
    "use only the useful data  \n",
    "**take some time**"
   ]
  },
  {
   "cell_type": "code",
   "execution_count": 334,
   "metadata": {
    "scrolled": true
   },
   "outputs": [
    {
     "name": "stdout",
     "output_type": "stream",
     "text": [
      "CPU times: user 2min 7s, sys: 906 ms, total: 2min 7s\n",
      "Wall time: 2min 7s\n"
     ]
    }
   ],
   "source": [
    "%%time\n",
    "pge_df = pge_df[~np.isin(pge_df.index.date,unuseful_date)]"
   ]
  },
  {
   "cell_type": "code",
   "execution_count": 335,
   "metadata": {},
   "outputs": [
    {
     "data": {
      "text/plain": [
       "1352.0"
      ]
     },
     "execution_count": 335,
     "metadata": {},
     "output_type": "execute_result"
    }
   ],
   "source": [
    "# number of days\n",
    "129792/96 "
   ]
  },
  {
   "cell_type": "markdown",
   "metadata": {},
   "source": [
    "## Split by seasons\n",
    "\n",
    "We split the data by seasons:\n",
    "* Spring: 3-5\n",
    "* Summer: 6-8\n",
    "* Fall: 9-11\n",
    "* Winter: 12-2"
   ]
  },
  {
   "cell_type": "code",
   "execution_count": 336,
   "metadata": {},
   "outputs": [
    {
     "data": {
      "text/plain": [
       "((356, 96), (339, 96), (297, 96), (360, 96))"
      ]
     },
     "execution_count": 336,
     "metadata": {},
     "output_type": "execute_result"
    }
   ],
   "source": [
    "summer = [6,7,8];fall = [9,10,11];spring = [3,4,5]; winter = [12,1,2]\n",
    "pv_summer = pge_df[pge_df.index.month.isin(summer)]['kWh'].values*4 # to convert average power (kW)\n",
    "pv_summer = pv_summer.reshape(-1,96)\n",
    "pv_fall = pge_df[pge_df.index.month.isin(fall)]['kWh'].values*4 # to convert average power (kW)\n",
    "pv_fall = pv_fall.reshape(-1,96)\n",
    "pv_spring = pge_df[pge_df.index.month.isin(spring)]['kWh'].values*4 # to convert average power (kW)\n",
    "pv_spring = pv_spring.reshape(-1,96)\n",
    "pv_winter = pge_df[pge_df.index.month.isin(winter)]['kWh'].values*4 # to convert average power (kW)\n",
    "pv_winter = pv_winter.reshape(-1,96)\n",
    "\n",
    "pv_summer.shape,pv_fall.shape, pv_spring.shape, pv_winter.shape"
   ]
  },
  {
   "cell_type": "code",
   "execution_count": 338,
   "metadata": {},
   "outputs": [
    {
     "data": {
      "image/png": "[encoded data removed]",
      "text/plain": [
       "<matplotlib.figure.Figure at 0x134bb7940>"
      ]
     },
     "metadata": {},
     "output_type": "display_data"
    }
   ],
   "source": [
    "# plot the mean production with standard deviation\n",
    "stages = np.linspace(start=0,stop=23.75,num=96)\n",
    "f, axarr = plt.subplots(2, 2,figsize=(10, 6), sharex=True, sharey=True)\n",
    "axarr[0,0].errorbar(stages,pv_spring.mean(axis=0), yerr=pv_spring.std(axis=0), linewidth=1, linestyle=\"-\",color=\"blue\")\n",
    "axarr[0, 0].set_title('Spring: 3-5')\n",
    "\n",
    "axarr[0,1].errorbar(stages,pv_summer.mean(axis=0), yerr=pv_summer.std(axis=0), linewidth=1, linestyle=\"-\",color=\"blue\")\n",
    "axarr[0,1].set_title('Summer: 6-8')\n",
    "\n",
    "axarr[1,0].errorbar(stages,pv_fall.mean(axis=0), yerr=pv_fall.std(axis=0), linewidth=1, linestyle=\"-\",color=\"blue\")\n",
    "axarr[1,0].set_title('Fall: 9-11')\n",
    "\n",
    "axarr[1,1].errorbar(stages,pv_winter.mean(axis=0), yerr=pv_winter.std(axis=0), linewidth=1, linestyle=\"-\",color=\"blue\")\n",
    "axarr[1,1].set_title('Winter: 12-2')\n",
    "\n",
    "f.text(0.5, 0.04, 'time (h)', ha='center')\n",
    "f.text(0.04, 0.5, 'power (kW)', va='center', rotation='vertical')\n",
    "f.suptitle(\"Seasoal average power output\")\n",
    "plt.show()"
   ]
  },
  {
   "cell_type": "code",
   "execution_count": 339,
   "metadata": {},
   "outputs": [
    {
     "data": {
      "image/png": "[encoded data removed]",
      "text/plain": [
       "<matplotlib.figure.Figure at 0x134bb7898>"
      ]
     },
     "metadata": {},
     "output_type": "display_data"
    }
   ],
   "source": [
    "# histogram of the average production per day\n",
    "num_bins = 40\n",
    "f, axarr = plt.subplots(2, 2,figsize=(10, 6), sharex=True, sharey=True)\n",
    "axarr[0,0].hist(pv_spring.sum(axis=1)/4, num_bins, facecolor=\"green\", alpha=0.5)\n",
    "axarr[0, 0].set_title('Spring: 3-5')\n",
    "\n",
    "axarr[0,1].hist(pv_summer.sum(axis=1)/4, num_bins, facecolor=\"green\", alpha=0.5)\n",
    "axarr[0,1].set_title('Summer: 6-8')\n",
    "\n",
    "axarr[1,0].hist(pv_fall.sum(axis=1)/4, num_bins,  facecolor=\"green\", alpha=0.5)\n",
    "axarr[1,0].set_title('Fall: 9-11')\n",
    "\n",
    "axarr[1,1].hist(pv_winter.sum(axis=1)/4, num_bins, facecolor=\"green\", alpha=0.5)\n",
    "axarr[1,1].set_title('Winter: 12-2')\n",
    "\n",
    "f.text(0.5, 0.04, 'energy (kWh)', ha='center')\n",
    "f.text(0.04, 0.5, 'observations', va='center', rotation='vertical')\n",
    "f.suptitle(\"Seasoal average energy production\")\n",
    "plt.show()"
   ]
  },
  {
   "cell_type": "markdown",
   "metadata": {},
   "source": [
    "#### Observation\n",
    "* Production level varies greatly depending on the season. \n",
    "* The standard deviation during **summer** is the smallest (histogram is centered) -> **nice to model the PV scenario generator**"
   ]
  },
  {
   "cell_type": "code",
   "execution_count": 348,
   "metadata": {
    "collapsed": true
   },
   "outputs": [],
   "source": [
    "dataname = 'PGE-SASH-4101'\n",
    "writecsvname = 'PGE-SASH-4101' + '_raw_winter.csv'\n",
    "pd.DataFrame(pv_winter).to_csv(writecsvname, header=False, index=False)\n",
    "writecsvname = 'PGE-SASH-4101' + '_raw_spring.csv'\n",
    "pd.DataFrame(pv_spring).to_csv(writecsvname, header=False, index=False)\n",
    "writecsvname = 'PGE-SASH-4101' + '_raw_summer.csv'\n",
    "pd.DataFrame(pv_summer).to_csv(writecsvname, header=False, index=False)\n",
    "writecsvname = 'PGE-SASH-4101' + '_raw_fall.csv'\n",
    "pd.DataFrame(pv_fall).to_csv(writecsvname, header=False, index=False)\n"
   ]
  },
  {
   "cell_type": "code",
   "execution_count": 340,
   "metadata": {
    "collapsed": true,
    "scrolled": true
   },
   "outputs": [],
   "source": [
    "# pge_df['stages'] = pge_df['datetime'].dt.hour*4 + pge_df['datetime'].dt.minute/15\n",
    "# pge_df['stages'].astype(np.int64).head()"
   ]
  },
  {
   "cell_type": "code",
   "execution_count": 341,
   "metadata": {
    "collapsed": true
   },
   "outputs": [],
   "source": [
    "# useful_date = pge_df[(pge_df['stages'] == 96)]['datetime'].dt.date\n",
    "# pge_df[pge_df['datetime'].dt.date.isin(useful_date)]"
   ]
  },
  {
   "cell_type": "code",
   "execution_count": 209,
   "metadata": {
    "collapsed": true
   },
   "outputs": [],
   "source": [
    "# pge_df['datetime'].resample(\"D\",how='sum')\n",
    "# df_temp = pge_df['stages'].groupby([pge_df['datetime'].dt.date]).sum()"
   ]
  },
  {
   "cell_type": "code",
   "execution_count": 210,
   "metadata": {
    "collapsed": true
   },
   "outputs": [],
   "source": [
    "# useful_date = []\n",
    "# for l in df_temp.index.tolist():\n",
    "#     if df_temp[l] == 4560.0:\n",
    "#         useful_date.append(l)"
   ]
  },
  {
   "cell_type": "code",
   "execution_count": 211,
   "metadata": {
    "collapsed": true,
    "scrolled": true
   },
   "outputs": [],
   "source": [
    "# temp_pge_df = pge_df[pge_df['datetime'].dt.date.isin(useful_date)]"
   ]
  },
  {
   "cell_type": "code",
   "execution_count": 212,
   "metadata": {
    "collapsed": true
   },
   "outputs": [],
   "source": [
    "# idx = pd.date_range(temp_pge_df['datetime'].iloc[0],temp_pge_df['datetime'].iloc[-1],freq='15min')\n",
    "# temp_pge_df = temp_pge_df.set_index('datetime')\n",
    "# temp_pge_df=temp_pge_df.reindex(idx)"
   ]
  }
 ],
 "metadata": {
  "kernelspec": {
   "display_name": "Python 3",
   "language": "python",
   "name": "python3"
  },
  "language_info": {
   "codemirror_mode": {
    "name": "ipython",
    "version": 3
   },
   "file_extension": ".py",
   "mimetype": "text/x-python",
   "name": "python",
   "nbconvert_exporter": "python",
   "pygments_lexer": "ipython3",
   "version": "3.6.3"
  }
 },
 "nbformat": 4,
 "nbformat_minor": 2
}
