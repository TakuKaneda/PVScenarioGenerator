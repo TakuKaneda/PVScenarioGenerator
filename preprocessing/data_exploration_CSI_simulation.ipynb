{
 "cells": [
  {
   "cell_type": "markdown",
   "metadata": {},
   "source": [
    "# CSI simulated data\n"
   ]
  },
  {
   "cell_type": "code",
   "execution_count": 1,
   "metadata": {
    "collapsed": true
   },
   "outputs": [],
   "source": [
    "import numpy as np\n",
    "import pandas as pd\n",
    "import matplotlib.pyplot as plt\n",
    "%matplotlib inline\n",
    "pd.set_option('display.max_columns', None)  # to display all columns of dataframes"
   ]
  },
  {
   "cell_type": "markdown",
   "metadata": {},
   "source": [
    "## Read the csv data\n",
    "\n",
    "We use the following profile of data.  \n",
    "`PGE-SASH-4101`:\n",
    "* Zip Code: 95122 *San Jose, California* https://goo.gl/maps/zCsdjqUbtYF2\n",
    "* Capacity (kW AC-CEC): 2.9"
   ]
  },
  {
   "cell_type": "code",
   "execution_count": 2,
   "metadata": {},
   "outputs": [
    {
     "name": "stdout",
     "output_type": "stream",
     "text": [
      "CPU times: user 39 s, sys: 176 ms, total: 39.2 s\n",
      "Wall time: 39.7 s\n"
     ]
    }
   ],
   "source": [
    "%%time\n",
    "csvname = 'PGE-SASH-4101'\n",
    "path_to_csv = '../data/CSIsimulation/'+csvname+'.csv'\n",
    "df = pd.read_csv(path_to_csv, header=0,parse_dates=[0])"
   ]
  },
  {
   "cell_type": "code",
   "execution_count": 3,
   "metadata": {},
   "outputs": [
    {
     "data": {
      "text/html": [
       "<div>\n",
       "<style scoped>\n",
       "    .dataframe tbody tr th:only-of-type {\n",
       "        vertical-align: middle;\n",
       "    }\n",
       "\n",
       "    .dataframe tbody tr th {\n",
       "        vertical-align: top;\n",
       "    }\n",
       "\n",
       "    .dataframe thead th {\n",
       "        text-align: right;\n",
       "    }\n",
       "</style>\n",
       "<table border=\"1\" class=\"dataframe\">\n",
       "  <thead>\n",
       "    <tr style=\"text-align: right;\">\n",
       "      <th></th>\n",
       "      <th>Period Beginning (UTC -08:00)</th>\n",
       "      <th>Energy (kWh)</th>\n",
       "    </tr>\n",
       "  </thead>\n",
       "  <tbody>\n",
       "    <tr>\n",
       "      <th>0</th>\n",
       "      <td>2011-01-01 00:00:00</td>\n",
       "      <td>0.0</td>\n",
       "    </tr>\n",
       "    <tr>\n",
       "      <th>1</th>\n",
       "      <td>2011-01-01 00:15:00</td>\n",
       "      <td>0.0</td>\n",
       "    </tr>\n",
       "    <tr>\n",
       "      <th>2</th>\n",
       "      <td>2011-01-01 00:30:00</td>\n",
       "      <td>0.0</td>\n",
       "    </tr>\n",
       "    <tr>\n",
       "      <th>3</th>\n",
       "      <td>2011-01-01 00:45:00</td>\n",
       "      <td>0.0</td>\n",
       "    </tr>\n",
       "    <tr>\n",
       "      <th>4</th>\n",
       "      <td>2011-01-01 01:00:00</td>\n",
       "      <td>0.0</td>\n",
       "    </tr>\n",
       "  </tbody>\n",
       "</table>\n",
       "</div>"
      ],
      "text/plain": [
       "  Period Beginning (UTC -08:00)  Energy (kWh)\n",
       "0           2011-01-01 00:00:00           0.0\n",
       "1           2011-01-01 00:15:00           0.0\n",
       "2           2011-01-01 00:30:00           0.0\n",
       "3           2011-01-01 00:45:00           0.0\n",
       "4           2011-01-01 01:00:00           0.0"
      ]
     },
     "execution_count": 3,
     "metadata": {},
     "output_type": "execute_result"
    }
   ],
   "source": [
    "df.head()"
   ]
  },
  {
   "cell_type": "code",
   "execution_count": 4,
   "metadata": {},
   "outputs": [
    {
     "data": {
      "text/plain": [
       "(Period Beginning (UTC -08:00)    datetime64[ns]\n",
       " Energy (kWh)                            float64\n",
       " dtype: object,\n",
       " Index(['Period Beginning (UTC -08:00)', 'Energy (kWh)'], dtype='object'),\n",
       " (210432, 2))"
      ]
     },
     "execution_count": 4,
     "metadata": {},
     "output_type": "execute_result"
    }
   ],
   "source": [
    "df.dtypes, df.columns, df.shape"
   ]
  },
  {
   "cell_type": "markdown",
   "metadata": {},
   "source": [
    "Data contains datatime `Period Beginning (UTC -08:00)` and production level `Energy (kWh)` by 15-min resolution"
   ]
  },
  {
   "cell_type": "code",
   "execution_count": 5,
   "metadata": {},
   "outputs": [
    {
     "data": {
      "image/png": "[encoded data removed]",
      "text/plain": [
       "<matplotlib.figure.Figure at 0x10b533198>"
      ]
     },
     "metadata": {},
     "output_type": "display_data"
    }
   ],
   "source": [
    "bp_x = df['Period Beginning (UTC -08:00)']\n",
    "bp_y = df['Energy (kWh)']\n",
    "\n",
    "# Make the plot\n",
    "plt.plot(bp_x, bp_y, linewidth=2, linestyle=\"-\",\n",
    "         color=\"blue\") # , label=r\"Legend label $\\sin(x)$\"\n",
    "plt.xlabel(r\"Time\")\n",
    "plt.ylabel(r\"Energy (kWh)\")\n",
    "plt.title(r\"Production\")\n",
    "# plt.legend(loc=\"lower left\")\n",
    "plt.show()"
   ]
  },
  {
   "cell_type": "code",
   "execution_count": 6,
   "metadata": {},
   "outputs": [
    {
     "data": {
      "text/html": [
       "<div>\n",
       "<style scoped>\n",
       "    .dataframe tbody tr th:only-of-type {\n",
       "        vertical-align: middle;\n",
       "    }\n",
       "\n",
       "    .dataframe tbody tr th {\n",
       "        vertical-align: top;\n",
       "    }\n",
       "\n",
       "    .dataframe thead th {\n",
       "        text-align: right;\n",
       "    }\n",
       "</style>\n",
       "<table border=\"1\" class=\"dataframe\">\n",
       "  <thead>\n",
       "    <tr style=\"text-align: right;\">\n",
       "      <th></th>\n",
       "      <th>Energy (kWh)</th>\n",
       "    </tr>\n",
       "    <tr>\n",
       "      <th>Period Beginning (UTC -08:00)</th>\n",
       "      <th></th>\n",
       "    </tr>\n",
       "  </thead>\n",
       "  <tbody>\n",
       "    <tr>\n",
       "      <th>2011-01-01</th>\n",
       "      <td>1.18919</td>\n",
       "    </tr>\n",
       "    <tr>\n",
       "      <th>2011-01-02</th>\n",
       "      <td>1.52982</td>\n",
       "    </tr>\n",
       "    <tr>\n",
       "      <th>2011-01-03</th>\n",
       "      <td>2.59788</td>\n",
       "    </tr>\n",
       "    <tr>\n",
       "      <th>2011-01-04</th>\n",
       "      <td>3.68834</td>\n",
       "    </tr>\n",
       "    <tr>\n",
       "      <th>2011-01-05</th>\n",
       "      <td>3.78789</td>\n",
       "    </tr>\n",
       "  </tbody>\n",
       "</table>\n",
       "</div>"
      ],
      "text/plain": [
       "                               Energy (kWh)\n",
       "Period Beginning (UTC -08:00)              \n",
       "2011-01-01                          1.18919\n",
       "2011-01-02                          1.52982\n",
       "2011-01-03                          2.59788\n",
       "2011-01-04                          3.68834\n",
       "2011-01-05                          3.78789"
      ]
     },
     "execution_count": 6,
     "metadata": {},
     "output_type": "execute_result"
    }
   ],
   "source": [
    "# production per day\n",
    "df.groupby(pd.Grouper(key='Period Beginning (UTC -08:00)',freq='D')).sum().head()"
   ]
  },
  {
   "cell_type": "code",
   "execution_count": 7,
   "metadata": {
    "collapsed": true
   },
   "outputs": [],
   "source": [
    "# df[(df['Period Beginning (UTC -08:00)'].dt.hour == 1) & (df['Period Beginning (UTC -08:00)'].dt.minute == 15)].head()"
   ]
  },
  {
   "cell_type": "markdown",
   "metadata": {},
   "source": [
    "## Divide the data by seasons\n",
    "\n",
    "We split the data by seasons:\n",
    "* Spring: 3-5\n",
    "* Summer: 6-8\n",
    "* Fall: 9-11\n",
    "* Winter: 12-2"
   ]
  },
  {
   "cell_type": "code",
   "execution_count": 8,
   "metadata": {
    "scrolled": false
   },
   "outputs": [
    {
     "data": {
      "text/html": [
       "<div>\n",
       "<style scoped>\n",
       "    .dataframe tbody tr th:only-of-type {\n",
       "        vertical-align: middle;\n",
       "    }\n",
       "\n",
       "    .dataframe tbody tr th {\n",
       "        vertical-align: top;\n",
       "    }\n",
       "\n",
       "    .dataframe thead th {\n",
       "        text-align: right;\n",
       "    }\n",
       "</style>\n",
       "<table border=\"1\" class=\"dataframe\">\n",
       "  <thead>\n",
       "    <tr style=\"text-align: right;\">\n",
       "      <th></th>\n",
       "      <th>Period Beginning (UTC -08:00)</th>\n",
       "      <th>Energy (kWh)</th>\n",
       "    </tr>\n",
       "  </thead>\n",
       "  <tbody>\n",
       "    <tr>\n",
       "      <th>0</th>\n",
       "      <td>2011-01-01 00:00:00</td>\n",
       "      <td>0.0</td>\n",
       "    </tr>\n",
       "    <tr>\n",
       "      <th>1</th>\n",
       "      <td>2011-01-01 00:15:00</td>\n",
       "      <td>0.0</td>\n",
       "    </tr>\n",
       "    <tr>\n",
       "      <th>2</th>\n",
       "      <td>2011-01-01 00:30:00</td>\n",
       "      <td>0.0</td>\n",
       "    </tr>\n",
       "    <tr>\n",
       "      <th>3</th>\n",
       "      <td>2011-01-01 00:45:00</td>\n",
       "      <td>0.0</td>\n",
       "    </tr>\n",
       "    <tr>\n",
       "      <th>4</th>\n",
       "      <td>2011-01-01 01:00:00</td>\n",
       "      <td>0.0</td>\n",
       "    </tr>\n",
       "  </tbody>\n",
       "</table>\n",
       "</div>"
      ],
      "text/plain": [
       "  Period Beginning (UTC -08:00)  Energy (kWh)\n",
       "0           2011-01-01 00:00:00           0.0\n",
       "1           2011-01-01 00:15:00           0.0\n",
       "2           2011-01-01 00:30:00           0.0\n",
       "3           2011-01-01 00:45:00           0.0\n",
       "4           2011-01-01 01:00:00           0.0"
      ]
     },
     "execution_count": 8,
     "metadata": {},
     "output_type": "execute_result"
    }
   ],
   "source": [
    "# extract winter season\n",
    "winter = [12,1,2]\n",
    "df_winter = df[df['Period Beginning (UTC -08:00)'].dt.month.isin(winter)]\n",
    "df_winter.head()"
   ]
  },
  {
   "cell_type": "code",
   "execution_count": 9,
   "metadata": {
    "scrolled": true
   },
   "outputs": [
    {
     "data": {
      "text/plain": [
       "(542, 96)"
      ]
     },
     "execution_count": 9,
     "metadata": {},
     "output_type": "execute_result"
    }
   ],
   "source": [
    "# convert to power (kW) and reshape \n",
    "pv_winter = df_winter['Energy (kWh)'].values*4 # to convert average power (kW)\n",
    "pv_winter = pv_winter.reshape(-1,96)\n",
    "pv_winter.shape"
   ]
  },
  {
   "cell_type": "code",
   "execution_count": 10,
   "metadata": {},
   "outputs": [
    {
     "data": {
      "image/png": "[encoded data removed]",
      "text/plain": [
       "<matplotlib.figure.Figure at 0x10e7341d0>"
      ]
     },
     "metadata": {},
     "output_type": "display_data"
    }
   ],
   "source": [
    "stages = np.linspace(start=0,stop=23.75,num=96)\n",
    "plt.plot(stages, pv_winter.mean(axis=0), linewidth=2, linestyle=\"-\",\n",
    "         color=\"blue\") # , label=r\"Legend label $\\sin(x)$\"\n",
    "plt.xlabel(r\"Time (h)\")\n",
    "plt.ylabel(r\"Power (kW)\")\n",
    "plt.title(r\"Winter average production\")\n",
    "plt.show()"
   ]
  },
  {
   "cell_type": "code",
   "execution_count": null,
   "metadata": {
    "collapsed": true
   },
   "outputs": [],
   "source": []
  },
  {
   "cell_type": "code",
   "execution_count": 11,
   "metadata": {},
   "outputs": [
    {
     "data": {
      "text/plain": [
       "((552, 96), (546, 96), (552, 96))"
      ]
     },
     "execution_count": 11,
     "metadata": {},
     "output_type": "execute_result"
    }
   ],
   "source": [
    "# do same for the other seasons\n",
    "summer = [6,7,8];fall = [9,10,11];spring = [3,4,5]\n",
    "pv_summer = df[df['Period Beginning (UTC -08:00)'].dt.month.isin(summer)]['Energy (kWh)'].values*4 # to convert average power (kW)\n",
    "pv_summer = pv_summer.reshape(-1,96)\n",
    "pv_fall = df[df['Period Beginning (UTC -08:00)'].dt.month.isin(fall)]['Energy (kWh)'].values*4 # to convert average power (kW)\n",
    "pv_fall = pv_fall.reshape(-1,96)\n",
    "pv_spring = df[df['Period Beginning (UTC -08:00)'].dt.month.isin(spring)]['Energy (kWh)'].values*4 # to convert average power (kW)\n",
    "pv_spring = pv_spring.reshape(-1,96)\n",
    "\n",
    "pv_summer.shape,pv_fall.shape, pv_spring.shape"
   ]
  },
  {
   "cell_type": "markdown",
   "metadata": {},
   "source": [
    "## some simple analysis"
   ]
  },
  {
   "cell_type": "code",
   "execution_count": 12,
   "metadata": {},
   "outputs": [
    {
     "data": {
      "image/png": "[encoded data removed]",
      "text/plain": [
       "<matplotlib.figure.Figure at 0x10e6cfda0>"
      ]
     },
     "metadata": {},
     "output_type": "display_data"
    }
   ],
   "source": [
    "# plot the mean production with standard deviation\n",
    "f, axarr = plt.subplots(2, 2,figsize=(10, 6), sharex=True, sharey=True)\n",
    "axarr[0,0].errorbar(stages,pv_spring.mean(axis=0), yerr=pv_spring.std(axis=0), linewidth=1, linestyle=\"-\",color=\"blue\")\n",
    "axarr[0, 0].set_title('Spring: 3-5')\n",
    "\n",
    "axarr[0,1].errorbar(stages,pv_summer.mean(axis=0), yerr=pv_summer.std(axis=0), linewidth=1, linestyle=\"-\",color=\"blue\")\n",
    "axarr[0,1].set_title('Summer: 6-8')\n",
    "\n",
    "axarr[1,0].errorbar(stages,pv_fall.mean(axis=0), yerr=pv_fall.std(axis=0), linewidth=1, linestyle=\"-\",color=\"blue\")\n",
    "axarr[1,0].set_title('Fall: 9-11')\n",
    "\n",
    "axarr[1,1].errorbar(stages,pv_winter.mean(axis=0), yerr=pv_winter.std(axis=0), linewidth=1, linestyle=\"-\",color=\"blue\")\n",
    "axarr[1,1].set_title('Winter: 12-2')\n",
    "\n",
    "f.text(0.5, 0.04, 'time (h)', ha='center')\n",
    "f.text(0.04, 0.5, 'power (kW)', va='center', rotation='vertical')\n",
    "f.suptitle(\"Seasoal average power output\")\n",
    "plt.show()"
   ]
  },
  {
   "cell_type": "code",
   "execution_count": 13,
   "metadata": {},
   "outputs": [
    {
     "data": {
      "image/png": "[encoded data removed]",
      "text/plain": [
       "<matplotlib.figure.Figure at 0x10e504a20>"
      ]
     },
     "metadata": {},
     "output_type": "display_data"
    }
   ],
   "source": [
    "# histogram of the average production per day\n",
    "num_bins = 40\n",
    "f, axarr = plt.subplots(2, 2,figsize=(10, 6), sharex=True, sharey=True)\n",
    "axarr[0,0].hist(pv_spring.sum(axis=1)/4, num_bins, facecolor=\"green\", alpha=0.5)\n",
    "axarr[0, 0].set_title('Spring: 3-5')\n",
    "\n",
    "axarr[0,1].hist(pv_summer.sum(axis=1)/4, num_bins, facecolor=\"green\", alpha=0.5)\n",
    "axarr[0,1].set_title('Summer: 6-8')\n",
    "\n",
    "axarr[1,0].hist(pv_fall.sum(axis=1)/4, num_bins,  facecolor=\"green\", alpha=0.5)\n",
    "axarr[1,0].set_title('Fall: 9-11')\n",
    "\n",
    "axarr[1,1].hist(pv_winter.sum(axis=1)/4, num_bins, facecolor=\"green\", alpha=0.5)\n",
    "axarr[1,1].set_title('Winter: 12-2')\n",
    "\n",
    "f.text(0.5, 0.04, 'energy (kWh)', ha='center')\n",
    "f.text(0.04, 0.5, 'observations', va='center', rotation='vertical')\n",
    "f.suptitle(\"Seasoal average energy production\")\n",
    "plt.show()"
   ]
  },
  {
   "cell_type": "markdown",
   "metadata": {},
   "source": [
    "#### Observation\n",
    "* Production level varies greatly depending on the season. \n",
    "* The standard deviation during **summer** is the smallest (histogram is centered) -> **nice to model the PV scenario generator**"
   ]
  },
  {
   "cell_type": "code",
   "execution_count": null,
   "metadata": {
    "collapsed": true
   },
   "outputs": [],
   "source": []
  },
  {
   "cell_type": "code",
   "execution_count": null,
   "metadata": {
    "collapsed": true
   },
   "outputs": [],
   "source": []
  },
  {
   "cell_type": "code",
   "execution_count": 14,
   "metadata": {
    "collapsed": true
   },
   "outputs": [],
   "source": [
    "# save as csv\n",
    "# writecsvname = csvname + '_winter.csv'\n",
    "# pd.DataFrame(pv_winter).to_csv(writecsvname, header=False, index=False)\n",
    "# writecsvname = csvname + '_summer.csv'\n",
    "# pd.DataFrame(pv_summer).to_csv(writecsvname, header=False, index=False)"
   ]
  },
  {
   "cell_type": "code",
   "execution_count": 15,
   "metadata": {
    "collapsed": true,
    "scrolled": true
   },
   "outputs": [],
   "source": [
    "# plt.plot(stages, pv_summer.mean(axis=0), linewidth=2, linestyle=\"-\",\n",
    "#          color=\"blue\") # , label=r\"Legend label $\\sin(x)$\"\n",
    "# plt.show()"
   ]
  },
  {
   "cell_type": "code",
   "execution_count": 16,
   "metadata": {
    "collapsed": true
   },
   "outputs": [],
   "source": [
    "# fall = [9,10,11];spring = [3,4,5]\n",
    "# df_fall = df[df['Period Beginning (UTC -08:00)'].dt.month.isin(fall)]\n",
    "# pv_fall = df_fall['Energy (kWh)'].values*4 # to convert average power (kW)\n",
    "# pv_fall = pv_fall.reshape(-1,96)\n",
    "# df_spring = df[df['Period Beginning (UTC -08:00)'].dt.month.isin(spring)]\n",
    "# pv_spring = df_spring['Energy (kWh)'].values*4 # to convert average power (kW)\n",
    "# pv_spring = pv_spring.reshape(-1,96)\n",
    "\n",
    "# pv_fall.shape, pv_spring.shape"
   ]
  },
  {
   "cell_type": "code",
   "execution_count": null,
   "metadata": {
    "collapsed": true
   },
   "outputs": [],
   "source": []
  }
 ],
 "metadata": {
  "kernelspec": {
   "display_name": "Python 3",
   "language": "python",
   "name": "python3"
  },
  "language_info": {
   "codemirror_mode": {
    "name": "ipython",
    "version": 3
   },
   "file_extension": ".py",
   "mimetype": "text/x-python",
   "name": "python",
   "nbconvert_exporter": "python",
   "pygments_lexer": "ipython3",
   "version": "3.6.8"
  }
 },
 "nbformat": 4,
 "nbformat_minor": 2
}
